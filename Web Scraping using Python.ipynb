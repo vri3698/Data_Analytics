{
 "cells": [
  {
   "cell_type": "markdown",
   "metadata": {},
   "source": [
    "<h1>Scraping Fidelity.com</h1>\n",
    "In this assignment, you will scrape data from fidelity.com. The goal of the exercise is to get the latest sector performance data from the US markets, and to get the total market capitalization for each sector. \n",
    "\n",
    "The end result is to write a function: <i>get_us_sector_performance()</i> that will return a list of tuples. Each tuple should correspond to a sector and should contain the following data:\n",
    "<li>the sector name\n",
    "<li>the amount the sector has moved\n",
    "<li>the market capitalization of the sector\n",
    "<li>the market weight of the sector\n",
    "<li>a link to the fidelity page for that sector\n",
    "\n",
    "<p>\n",
    "The data should be sorted by decreasing order of market weight. I.e., the sector with the highest weight should be in the first tuple, etc."
   ]
  },
  {
   "cell_type": "code",
   "execution_count": null,
   "metadata": {},
   "outputs": [],
   "source": []
  },
  {
   "cell_type": "markdown",
   "metadata": {},
   "source": [
    "<h3>Process</h3>\n",
    "<li>Get a list of sectors and the links to the sector detail pages from the url (see function)\n",
    "<li>Loop through the list and call the function <i>get_sector_change_and_market_cap(sector_page_link)</i> for each sector\n",
    "<li>Accumulate the name, the change, the capitalization, the weight and the link for each sector in output_list (see function)\n",
    "<li>Sort the list by market weight"
   ]
  },
  {
   "cell_type": "markdown",
   "metadata": {},
   "source": [
    "<b>Notes:</b>\n",
    "<li>Note that the market weight is a string with a % sign at the back. You will need to get rid of the % and convert the string into a float before you can sort it\n",
    "<li>Your starting data is the url listed below. You need to extract all data, including links to the sector pages, from the page at this url\n",
    "<li>To sort a list of tuples by an arbitrary element, use the example at the bottom of this notebook"
   ]
  },
  {
   "cell_type": "code",
   "execution_count": 1,
   "metadata": {},
   "outputs": [],
   "source": [
    "import requests\n",
    "from bs4 import BeautifulSoup\n",
    "import re\n",
    "import pandas as pd"
   ]
  },
  {
   "cell_type": "code",
   "execution_count": 2,
   "metadata": {},
   "outputs": [],
   "source": [
    "def get_us_sector_performance():\n",
    "    output_list = list()\n",
    "    url = \"https://eresearch.fidelity.com/eresearch/goto/markets_sectors/landing.jhtml\"\n",
    "    header=[]\n",
    "    sector_links=[]\n",
    "    response = requests.get(url)\n",
    "    if not response.status_code == 200:\n",
    "        return None\n",
    "    try:\n",
    "        results_page = BeautifulSoup(response.content,'lxml')\n",
    "        table=results_page.find('tbody',id=\"tbody_id\")\n",
    "        names=table.find_all('div',class_=\"heading\")\n",
    "        for name in names:\n",
    "            list_of_tuples=[]\n",
    "            sector_name=name.find('a',class_=\"heading1\").get_text()      #get sector names \n",
    "            div=results_page.find_all('div', {\"class\":\"heading\"})\n",
    "            link=name.find('a').get('href')   #get link to new page with only particular sector data\n",
    "            new_link=\"https://eresearch.fidelity.com\"+link\n",
    "            sector_change,sector_market_cap,sector_market_weight=get_sector_change_and_market_cap(new_link)\n",
    "            #create a list with all the data needed \n",
    "            list_of_tuples.append(sector_name)       \n",
    "            list_of_tuples.append(sector_change)\n",
    "            list_of_tuples.append(sector_market_cap)\n",
    "            list_of_tuples.append(sector_market_weight)\n",
    "            list_of_tuples.append(new_link)\n",
    "            #add data from each sector to a tuple\n",
    "            tuples=tuple(list_of_tuples)  \n",
    "            #add tuples of data from each sector to a list\n",
    "            output_list.append(tuples) \n",
    "        output_list.sort(key=lambda a: a[3], reverse=True)   #sort by market weight\n",
    "        return output_list\n",
    "    except:\n",
    "        return None            \n",
    "       \n",
    "    "
   ]
  },
  {
   "cell_type": "code",
   "execution_count": 3,
   "metadata": {
    "scrolled": false
   },
   "outputs": [],
   "source": [
    "get_us_sector_performance()"
   ]
  },
  {
   "cell_type": "code",
   "execution_count": null,
   "metadata": {},
   "outputs": [],
   "source": []
  },
  {
   "cell_type": "code",
   "execution_count": 3,
   "metadata": {},
   "outputs": [],
   "source": [
    "def get_sector_change_and_market_cap(sector_page_link):\n",
    "    sector_data=[]\n",
    "    new_response=requests.get(sector_page_link)\n",
    "    new_page=BeautifulSoup(new_response.content,'lxml')\n",
    "    table=new_page.find_all('tbody')\n",
    "    tr=table[1].find_all('tr')\n",
    "    data=tr[0].find_all('td')\n",
    "    for i in data:\n",
    "        sector_data.append(i.find('span').get_text())\n",
    "    \n",
    "    sector_change=float(sector_data[0].replace(\"%\",\"\"))\n",
    "    sector_market_cap=sector_data[1]\n",
    "    sector_market_weight=float(sector_data[2].replace(\"%\",\"\"))\n",
    "    \n",
    "    \n",
    "    return sector_change,sector_market_cap,sector_market_weight"
   ]
  },
  {
   "cell_type": "code",
   "execution_count": 4,
   "metadata": {},
   "outputs": [
    {
     "data": {
      "text/plain": [
       "(-0.04, '$6.49T', 11.66)"
      ]
     },
     "execution_count": 4,
     "metadata": {},
     "output_type": "execute_result"
    }
   ],
   "source": [
    "#Test get_sector_change_and_market_cap()\n",
    "link = \"https://eresearch.fidelity.com/eresearch/markets_sectors/sectors/sectors_in_market.jhtml?tab=learn&sector=25\"\n",
    "get_sector_change_and_market_cap(link)\n",
    "#Should return (-0.40, '$3.58T', 6.80)\n",
    "#Note that neither the -0.40, nor the 6.80, end with a % sign"
   ]
  },
  {
   "cell_type": "code",
   "execution_count": 5,
   "metadata": {
    "scrolled": false
   },
   "outputs": [
    {
     "data": {
      "text/plain": [
       "[('Information Technology',\n",
       "  -0.2,\n",
       "  '$11.29T',\n",
       "  26.75,\n",
       "  'https://eresearch.fidelity.com/eresearch/markets_sectors/sectors/sectors_in_market.jhtml?tab=learn&sector=45'),\n",
       " ('Health Care',\n",
       "  0.05,\n",
       "  '$7.06T',\n",
       "  14.87,\n",
       "  'https://eresearch.fidelity.com/eresearch/markets_sectors/sectors/sectors_in_market.jhtml?tab=learn&sector=35'),\n",
       " ('Consumer Discretionary',\n",
       "  -0.04,\n",
       "  '$6.49T',\n",
       "  11.66,\n",
       "  'https://eresearch.fidelity.com/eresearch/markets_sectors/sectors/sectors_in_market.jhtml?tab=learn&sector=25'),\n",
       " ('Financials',\n",
       "  0.41,\n",
       "  '$6.90T',\n",
       "  10.95,\n",
       "  'https://eresearch.fidelity.com/eresearch/markets_sectors/sectors/sectors_in_market.jhtml?tab=learn&sector=40'),\n",
       " ('Communication Services',\n",
       "  0.11,\n",
       "  '$4.03T',\n",
       "  8.08,\n",
       "  'https://eresearch.fidelity.com/eresearch/markets_sectors/sectors/sectors_in_market.jhtml?tab=learn&sector=50'),\n",
       " ('Industrials',\n",
       "  -0.03,\n",
       "  '$4.46T',\n",
       "  7.83,\n",
       "  'https://eresearch.fidelity.com/eresearch/markets_sectors/sectors/sectors_in_market.jhtml?tab=learn&sector=20'),\n",
       " ('Consumer Staples',\n",
       "  -0.69,\n",
       "  '$4.02T',\n",
       "  6.96,\n",
       "  'https://eresearch.fidelity.com/eresearch/markets_sectors/sectors/sectors_in_market.jhtml?tab=learn&sector=30'),\n",
       " ('Energy',\n",
       "  0.17,\n",
       "  '$3.33T',\n",
       "  4.34,\n",
       "  'https://eresearch.fidelity.com/eresearch/markets_sectors/sectors/sectors_in_market.jhtml?tab=learn&sector=10'),\n",
       " ('Utilities',\n",
       "  -1.0,\n",
       "  '$1.53T',\n",
       "  3.27,\n",
       "  'https://eresearch.fidelity.com/eresearch/markets_sectors/sectors/sectors_in_market.jhtml?tab=learn&sector=55'),\n",
       " ('Real Estate',\n",
       "  1.16,\n",
       "  '$1.31T',\n",
       "  2.83,\n",
       "  'https://eresearch.fidelity.com/eresearch/markets_sectors/sectors/sectors_in_market.jhtml?tab=learn&sector=60'),\n",
       " ('Materials',\n",
       "  0.56,\n",
       "  '$2.02T',\n",
       "  2.46,\n",
       "  'https://eresearch.fidelity.com/eresearch/markets_sectors/sectors/sectors_in_market.jhtml?tab=learn&sector=15')]"
      ]
     },
     "execution_count": 5,
     "metadata": {},
     "output_type": "execute_result"
    }
   ],
   "source": [
    "#Test get_us_sector_performance()\n",
    "get_us_sector_performance()"
   ]
  },
  {
   "cell_type": "code",
   "execution_count": 382,
   "metadata": {},
   "outputs": [
    {
     "data": {
      "text/plain": [
       "\"\\n[('Information Technology',\\n  2.16,\\n  '$14.64T',\\n  28.02,\\n  'https://eresearch.fidelity.com/eresearch/markets_sectors/sectors/sectors_in_market.jhtml?tab=learn&sector=45'),\\n ('Health Care',\\n  0.19,\\n  '$7.60T',\\n  13.22,\\n  'https://eresearch.fidelity.com/eresearch/markets_sectors/sectors/sectors_in_market.jhtml?tab=learn&sector=35'),\\n ('Consumer Discretionary',\\n  1.96,\\n  '$8.32T',\\n  11.94,\\n  'https://eresearch.fidelity.com/eresearch/markets_sectors/sectors/sectors_in_market.jhtml?tab=learn&sector=25'),\\n ('Financials',\\n  0.63,\\n  '$8.83T',\\n  11.32,\\n  'https://eresearch.fidelity.com/eresearch/markets_sectors/sectors/sectors_in_market.jhtml?tab=learn&sector=40'),\\n ('Communication Services',\\n  0.78,\\n  '$5.74T',\\n  10.01,\\n  'https://eresearch.fidelity.com/eresearch/markets_sectors/sectors/sectors_in_market.jhtml?tab=learn&sector=50'),\\n ('Industrials',\\n  0.43,\\n  '$5.58T',\\n  8.06,\\n  'https://eresearch.fidelity.com/eresearch/markets_sectors/sectors/sectors_in_market.jhtml?tab=learn&sector=20'),\\n ('Consumer Staples',\\n  -0.16,\\n  '$4.26T',\\n  6.27,\\n  'https://eresearch.fidelity.com/eresearch/markets_sectors/sectors/sectors_in_market.jhtml?tab=learn&sector=30'),\\n ('Energy',\\n  0.12,\\n  '$3.19T',\\n  3.27,\\n  'https://eresearch.fidelity.com/eresearch/markets_sectors/sectors/sectors_in_market.jhtml?tab=learn&sector=10'),\\n ('Real Estate',\\n  0.69,\\n  '$1.71T',\\n  2.72,\\n  'https://eresearch.fidelity.com/eresearch/markets_sectors/sectors/sectors_in_market.jhtml?tab=learn&sector=60'),\\n ('Utilities',\\n  0.55,\\n  '$1.63T',\\n  2.6,\\n  'https://eresearch.fidelity.com/eresearch/markets_sectors/sectors/sectors_in_market.jhtml?tab=learn&sector=55'),\\n ('Materials',\\n  0.25,\\n  '$2.53T',\\n  2.58,\\n  'https://eresearch.fidelity.com/eresearch/markets_sectors/sectors/sectors_in_market.jhtml?tab=learn&sector=15')]\\n  \\n\""
      ]
     },
     "execution_count": 382,
     "metadata": {},
     "output_type": "execute_result"
    }
   ],
   "source": [
    "#Running the above cell should return (example: obviously the results will vary over time!)\n",
    "\"\"\"\n",
    "[('Information Technology',\n",
    "  2.16,\n",
    "  '$14.64T',\n",
    "  28.02,\n",
    "  'https://eresearch.fidelity.com/eresearch/markets_sectors/sectors/sectors_in_market.jhtml?tab=learn&sector=45'),\n",
    " ('Health Care',\n",
    "  0.19,\n",
    "  '$7.60T',\n",
    "  13.22,\n",
    "  'https://eresearch.fidelity.com/eresearch/markets_sectors/sectors/sectors_in_market.jhtml?tab=learn&sector=35'),\n",
    " ('Consumer Discretionary',\n",
    "  1.96,\n",
    "  '$8.32T',\n",
    "  11.94,\n",
    "  'https://eresearch.fidelity.com/eresearch/markets_sectors/sectors/sectors_in_market.jhtml?tab=learn&sector=25'),\n",
    " ('Financials',\n",
    "  0.63,\n",
    "  '$8.83T',\n",
    "  11.32,\n",
    "  'https://eresearch.fidelity.com/eresearch/markets_sectors/sectors/sectors_in_market.jhtml?tab=learn&sector=40'),\n",
    " ('Communication Services',\n",
    "  0.78,\n",
    "  '$5.74T',\n",
    "  10.01,\n",
    "  'https://eresearch.fidelity.com/eresearch/markets_sectors/sectors/sectors_in_market.jhtml?tab=learn&sector=50'),\n",
    " ('Industrials',\n",
    "  0.43,\n",
    "  '$5.58T',\n",
    "  8.06,\n",
    "  'https://eresearch.fidelity.com/eresearch/markets_sectors/sectors/sectors_in_market.jhtml?tab=learn&sector=20'),\n",
    " ('Consumer Staples',\n",
    "  -0.16,\n",
    "  '$4.26T',\n",
    "  6.27,\n",
    "  'https://eresearch.fidelity.com/eresearch/markets_sectors/sectors/sectors_in_market.jhtml?tab=learn&sector=30'),\n",
    " ('Energy',\n",
    "  0.12,\n",
    "  '$3.19T',\n",
    "  3.27,\n",
    "  'https://eresearch.fidelity.com/eresearch/markets_sectors/sectors/sectors_in_market.jhtml?tab=learn&sector=10'),\n",
    " ('Real Estate',\n",
    "  0.69,\n",
    "  '$1.71T',\n",
    "  2.72,\n",
    "  'https://eresearch.fidelity.com/eresearch/markets_sectors/sectors/sectors_in_market.jhtml?tab=learn&sector=60'),\n",
    " ('Utilities',\n",
    "  0.55,\n",
    "  '$1.63T',\n",
    "  2.6,\n",
    "  'https://eresearch.fidelity.com/eresearch/markets_sectors/sectors/sectors_in_market.jhtml?tab=learn&sector=55'),\n",
    " ('Materials',\n",
    "  0.25,\n",
    "  '$2.53T',\n",
    "  2.58,\n",
    "  'https://eresearch.fidelity.com/eresearch/markets_sectors/sectors/sectors_in_market.jhtml?tab=learn&sector=15')]\n",
    "  \n",
    "\"\"\""
   ]
  },
  {
   "cell_type": "code",
   "execution_count": 350,
   "metadata": {},
   "outputs": [],
   "source": [
    "#Print the different sector names from the above output in alpabetical order"
   ]
  },
  {
   "cell_type": "code",
   "execution_count": 6,
   "metadata": {},
   "outputs": [],
   "source": [
    "def sorted_names():\n",
    "    sector_names=[]\n",
    "    output=[]\n",
    "    output=get_us_sector_performance()    #get output returned by previously defined function\n",
    "    for i in output:\n",
    "        sector_names.append(i[0])         #get only sector_names\n",
    "    return sorted(sector_names)           #sort alphabetically using a built-in function and return sorted list"
   ]
  },
  {
   "cell_type": "code",
   "execution_count": 7,
   "metadata": {},
   "outputs": [
    {
     "data": {
      "text/plain": [
       "['Communication Services',\n",
       " 'Consumer Discretionary',\n",
       " 'Consumer Staples',\n",
       " 'Energy',\n",
       " 'Financials',\n",
       " 'Health Care',\n",
       " 'Industrials',\n",
       " 'Information Technology',\n",
       " 'Materials',\n",
       " 'Real Estate',\n",
       " 'Utilities']"
      ]
     },
     "execution_count": 7,
     "metadata": {},
     "output_type": "execute_result"
    }
   ],
   "source": [
    "sorted_names()"
   ]
  },
  {
   "cell_type": "code",
   "execution_count": 8,
   "metadata": {},
   "outputs": [],
   "source": [
    "### Find the sector with lowest Market cap by creating a dict of all sectors and their market caps\n",
    "##    example of the output. {'Materials': '$2.01T', ...}\n",
    "def dict_sectors():\n",
    "    output=[]\n",
    "    dict_of_values=dict()\n",
    "    output=get_us_sector_performance()      #get output returned by previously defined function\n",
    "    for i in output:        \n",
    "        market_cap=float(i[2].replace('$','').replace('T','')) #convert to float in order to sort\n",
    "        dict_of_values.update({i[0]:market_cap})\n",
    "    dict_of_values=dict(sorted(dict_of_values.items(), key=lambda x: x[1]))   #sort by market cap \n",
    "    sorted_dict=dict([key, ('$'+str(value)+'T')]\n",
    "       for key, value in dict_of_values.items())       #convert float back to string\n",
    "    lowest_sector=(list(sorted_dict.items())[0])       #return only the first item from sorted dictionary to get sector with lowest market cap\n",
    "#     return sorted_dict\n",
    "#    lowest_sector_dict = {lowest_sector[i]: lowest_sector[i + 1] for i in range(0, len(lowest_sector), 2)}\n",
    "    return lowest_sector[0]"
   ]
  },
  {
   "cell_type": "code",
   "execution_count": 9,
   "metadata": {},
   "outputs": [
    {
     "data": {
      "text/plain": [
       "'Real Estate'"
      ]
     },
     "execution_count": 9,
     "metadata": {},
     "output_type": "execute_result"
    }
   ],
   "source": [
    "dict_sectors()"
   ]
  },
  {
   "cell_type": "code",
   "execution_count": null,
   "metadata": {},
   "outputs": [],
   "source": []
  },
  {
   "cell_type": "raw",
   "metadata": {},
   "source": []
  },
  {
   "cell_type": "markdown",
   "metadata": {},
   "source": [
    "<h3>Hint: How to sort tuples by an arbitrary element?</h3>"
   ]
  },
  {
   "cell_type": "code",
   "execution_count": 355,
   "metadata": {},
   "outputs": [],
   "source": [
    "x = [('a',23.2,'b'),('c',17.4,'f'),('d',29.2,'z'),('e',1.74,'bb')]\n",
    "#Sort by the first element of the tuple\n"
   ]
  },
  {
   "cell_type": "code",
   "execution_count": 356,
   "metadata": {},
   "outputs": [],
   "source": [
    "x = [('a',23.2,'b'),('c',17.4,'f'),('d',29.2,'z'),('e',1.74,'bb')]\n",
    "#Sort by the element at position 1\n"
   ]
  },
  {
   "cell_type": "code",
   "execution_count": null,
   "metadata": {},
   "outputs": [],
   "source": []
  },
  {
   "cell_type": "code",
   "execution_count": null,
   "metadata": {},
   "outputs": [],
   "source": []
  },
  {
   "cell_type": "code",
   "execution_count": null,
   "metadata": {},
   "outputs": [],
   "source": []
  }
 ],
 "metadata": {
  "kernelspec": {
   "display_name": "Python 3 (ipykernel)",
   "language": "python",
   "name": "python3"
  },
  "language_info": {
   "codemirror_mode": {
    "name": "ipython",
    "version": 3
   },
   "file_extension": ".py",
   "mimetype": "text/x-python",
   "name": "python",
   "nbconvert_exporter": "python",
   "pygments_lexer": "ipython3",
   "version": "3.9.12"
  }
 },
 "nbformat": 4,
 "nbformat_minor": 2
}
