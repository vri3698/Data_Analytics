{
 "cells": [
  {
   "cell_type": "markdown",
   "metadata": {},
   "source": [
    "<h1>Problem 1: Part 1</h1>"
   ]
  },
  {
   "cell_type": "code",
   "execution_count": 2,
   "metadata": {},
   "outputs": [],
   "source": [
    "def preceding(char):\n",
    "    coded_char=''\n",
    "    if char=='a':\n",
    "        coded_char='z'\n",
    "    elif char=='A':\n",
    "        coded_char='Z'\n",
    "    elif ((ord(char) in range(97,122)) or (ord(char) in range(65,90))):\n",
    "        coded_char=chr(ord(char)-1)\n",
    "    else:\n",
    "        coded_char=char    \n",
    "    return coded_char"
   ]
  },
  {
   "cell_type": "code",
   "execution_count": 3,
   "metadata": {},
   "outputs": [
    {
     "name": "stdout",
     "output_type": "stream",
     "text": [
      "z\n",
      "a\n",
      "!\n"
     ]
    }
   ],
   "source": [
    "print(preceding('a')) #Should print z\n",
    "print(preceding('b')) #Should print a\n",
    "print(preceding('!')) #Should print !"
   ]
  },
  {
   "cell_type": "markdown",
   "metadata": {},
   "source": [
    "<h1>Problem 1: Part 2</h1>\n"
   ]
  },
  {
   "cell_type": "code",
   "execution_count": 4,
   "metadata": {},
   "outputs": [],
   "source": [
    "def succeeding(char):\n",
    "    coded_char=''\n",
    "    if char=='z':\n",
    "        coded_char='a'\n",
    "    elif char=='Z':\n",
    "        coded_char='A'\n",
    "    elif ((ord(char) in range(96,121)) or (ord(char) in range(64,89))):\n",
    "        coded_char=chr(ord(char)+1)\n",
    "    else:\n",
    "        coded_char=char    \n",
    "    return coded_char    "
   ]
  },
  {
   "cell_type": "code",
   "execution_count": 5,
   "metadata": {},
   "outputs": [
    {
     "name": "stdout",
     "output_type": "stream",
     "text": [
      "a\n",
      "c\n",
      "!\n"
     ]
    }
   ],
   "source": [
    "print(succeeding('z')) #Should print a\n",
    "print(succeeding('b')) #Should print c\n",
    "print(succeeding('!')) #Should print !"
   ]
  },
  {
   "cell_type": "markdown",
   "metadata": {},
   "source": [
    "<h1>Problem 1: Part 3</h1>"
   ]
  },
  {
   "cell_type": "code",
   "execution_count": 6,
   "metadata": {},
   "outputs": [],
   "source": [
    "def message_coder(message_string,function):\n",
    "    coded_message = ''\n",
    "    coded=[]\n",
    "    char_array=list(message_string)\n",
    "    if function==preceding:\n",
    "        for char in char_array:           \n",
    "            coded_message+=preceding(char)\n",
    "    elif function==succeeding:\n",
    "        for char in char_array:          \n",
    "            coded_message+=succeeding(char)              \n",
    "    return coded_message"
   ]
  },
  {
   "cell_type": "markdown",
   "metadata": {},
   "source": [
    "<h3>Test <b>preceding</b> and <b>succeeding</b> and <b>message_coder</h3>"
   ]
  },
  {
   "cell_type": "code",
   "execution_count": 7,
   "metadata": {},
   "outputs": [
    {
     "name": "stdout",
     "output_type": "stream",
     "text": [
      "gdkkn cnkkx zdaqz!\n",
      "ifmmp epmmy afcsb!\n"
     ]
    }
   ],
   "source": [
    "print(message_coder('hello dolly zebra!',preceding))# prints 'gdkkn cnkkx ydaqz!’\n",
    "\n",
    "print(message_coder('hello dolly zebra!',succeeding))# prints 'ifmmp epmmz afcsb!’\n"
   ]
  },
  {
   "cell_type": "markdown",
   "metadata": {},
   "source": [
    "<h1>Problem 2: Word Count</h2>"
   ]
  },
  {
   "cell_type": "code",
   "execution_count": 8,
   "metadata": {},
   "outputs": [],
   "source": [
    "import re\n",
    "import string\n",
    "\n",
    "\n",
    "def word_distribution(text_string,word_list=[]):\n",
    "    frequency_dict = dict()\n",
    "    pattern = r'[' + string.punctuation + ']' # Removing special characters from the string\n",
    "    text_string = re.sub(pattern, '', text_string)\n",
    "    text_string=(text_string.lower()).split()\n",
    "    if word_list:\n",
    "        for word in word_list:\n",
    "            word=word.lower()\n",
    "            frequency_dict[word]=text_string.count(word)  \n",
    "    else:\n",
    "        word_freq=[text_string.count(word) for word in text_string]\n",
    "        frequency_dict=dict(zip(text_string,word_freq))\n",
    "    \n",
    "    return frequency_dict\n"
   ]
  },
  {
   "cell_type": "markdown",
   "metadata": {},
   "source": [
    "<h3>Test <b>word_distribution</b></h3>\n"
   ]
  },
  {
   "cell_type": "code",
   "execution_count": 9,
   "metadata": {},
   "outputs": [
    {
     "name": "stdout",
     "output_type": "stream",
     "text": [
      "{'hello': 2, 'how': 1, 'are': 1, 'you': 2, 'please': 1, 'say': 1, 'if': 1, 'don’t': 1, 'love': 1, 'me': 1}\n"
     ]
    }
   ],
   "source": [
    "text_string = \"Hello. How are you? Please say hello if you don’t love me!\"\n",
    "print(word_distribution(text_string)) #should print {‘hello’: 2, ‘how’:1, ‘are’:1, ‘you’:2,’please’:1, “don’t”: 1 …}\n"
   ]
  },
  {
   "cell_type": "code",
   "execution_count": 10,
   "metadata": {},
   "outputs": [
    {
     "name": "stdout",
     "output_type": "stream",
     "text": [
      "{'i': 3, 'saw': 1, 'britain': 0}\n"
     ]
    }
   ],
   "source": [
    "text_string = 'I came, I saw, I conquered!'\n",
    "print(word_distribution(text_string,word_list=['I','saw','Britain'])) # prints {‘i’:3,’saw’:1,’britain':0}\n"
   ]
  },
  {
   "cell_type": "code",
   "execution_count": null,
   "metadata": {
    "collapsed": true
   },
   "outputs": [],
   "source": []
  }
 ],
 "metadata": {
  "kernelspec": {
   "display_name": "Python 3 (ipykernel)",
   "language": "python",
   "name": "python3"
  },
  "language_info": {
   "codemirror_mode": {
    "name": "ipython",
    "version": 3
   },
   "file_extension": ".py",
   "mimetype": "text/x-python",
   "name": "python",
   "nbconvert_exporter": "python",
   "pygments_lexer": "ipython3",
   "version": "3.9.12"
  }
 },
 "nbformat": 4,
 "nbformat_minor": 2
}
