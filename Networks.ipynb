{
 "cells": [
  {
   "cell_type": "markdown",
   "metadata": {},
   "source": [
    "<h1>Citibike Network Assignment</h1>\n",
    "<li>The file, 201809-citibike-tripdata.csv, contains citibike trip data from September 2018 (a reasonable sized file!)\n",
    "<li>The data:<br>\n",
    "\"tripduration\",\"starttime\",\"stoptime\",\"start station id\",\"start station name\",\"start station latitude\",\"start station longitude\",\"end station id\",\"end station name\",\"end station latitude\",\"end station longitude\",\"bikeid\",\"usertype\",\"birth year\",\"gender\"\n",
    "<li>Each record in the data is a trip \n",
    "<li>The data is described at https://www.citibikenyc.com/system-data"
   ]
  },
  {
   "cell_type": "markdown",
   "metadata": {},
   "source": [
    "<h1>STEP 1: Read the data into a dataframe</h1>\n",
    "<li>Convert station ids to str if necessary"
   ]
  },
  {
   "cell_type": "code",
   "execution_count": 38,
   "metadata": {},
   "outputs": [
    {
     "data": {
      "text/html": [
       "<div>\n",
       "<style scoped>\n",
       "    .dataframe tbody tr th:only-of-type {\n",
       "        vertical-align: middle;\n",
       "    }\n",
       "\n",
       "    .dataframe tbody tr th {\n",
       "        vertical-align: top;\n",
       "    }\n",
       "\n",
       "    .dataframe thead th {\n",
       "        text-align: right;\n",
       "    }\n",
       "</style>\n",
       "<table border=\"1\" class=\"dataframe\">\n",
       "  <thead>\n",
       "    <tr style=\"text-align: right;\">\n",
       "      <th></th>\n",
       "      <th>tripduration</th>\n",
       "      <th>starttime</th>\n",
       "      <th>stoptime</th>\n",
       "      <th>start station id</th>\n",
       "      <th>start station name</th>\n",
       "      <th>start station latitude</th>\n",
       "      <th>start station longitude</th>\n",
       "      <th>end station id</th>\n",
       "      <th>end station name</th>\n",
       "      <th>end station latitude</th>\n",
       "      <th>end station longitude</th>\n",
       "      <th>bikeid</th>\n",
       "      <th>usertype</th>\n",
       "      <th>birth year</th>\n",
       "      <th>gender</th>\n",
       "    </tr>\n",
       "  </thead>\n",
       "  <tbody>\n",
       "    <tr>\n",
       "      <th>0</th>\n",
       "      <td>970</td>\n",
       "      <td>2018-01-01 13:50:57.4340</td>\n",
       "      <td>2018-01-01 14:07:08.1860</td>\n",
       "      <td>72</td>\n",
       "      <td>W 52 St &amp; 11 Ave</td>\n",
       "      <td>40.767272</td>\n",
       "      <td>-73.993929</td>\n",
       "      <td>505</td>\n",
       "      <td>6 Ave &amp; W 33 St</td>\n",
       "      <td>40.749013</td>\n",
       "      <td>-73.988484</td>\n",
       "      <td>31956</td>\n",
       "      <td>Subscriber</td>\n",
       "      <td>1992</td>\n",
       "      <td>1</td>\n",
       "    </tr>\n",
       "    <tr>\n",
       "      <th>1</th>\n",
       "      <td>723</td>\n",
       "      <td>2018-01-01 15:33:30.1820</td>\n",
       "      <td>2018-01-01 15:45:33.3410</td>\n",
       "      <td>72</td>\n",
       "      <td>W 52 St &amp; 11 Ave</td>\n",
       "      <td>40.767272</td>\n",
       "      <td>-73.993929</td>\n",
       "      <td>3255</td>\n",
       "      <td>8 Ave &amp; W 31 St</td>\n",
       "      <td>40.750585</td>\n",
       "      <td>-73.994685</td>\n",
       "      <td>32536</td>\n",
       "      <td>Subscriber</td>\n",
       "      <td>1969</td>\n",
       "      <td>1</td>\n",
       "    </tr>\n",
       "    <tr>\n",
       "      <th>2</th>\n",
       "      <td>496</td>\n",
       "      <td>2018-01-01 15:39:18.3370</td>\n",
       "      <td>2018-01-01 15:47:35.1720</td>\n",
       "      <td>72</td>\n",
       "      <td>W 52 St &amp; 11 Ave</td>\n",
       "      <td>40.767272</td>\n",
       "      <td>-73.993929</td>\n",
       "      <td>525</td>\n",
       "      <td>W 34 St &amp; 11 Ave</td>\n",
       "      <td>40.755942</td>\n",
       "      <td>-74.002116</td>\n",
       "      <td>16069</td>\n",
       "      <td>Subscriber</td>\n",
       "      <td>1956</td>\n",
       "      <td>1</td>\n",
       "    </tr>\n",
       "    <tr>\n",
       "      <th>3</th>\n",
       "      <td>306</td>\n",
       "      <td>2018-01-01 15:40:13.3720</td>\n",
       "      <td>2018-01-01 15:45:20.1910</td>\n",
       "      <td>72</td>\n",
       "      <td>W 52 St &amp; 11 Ave</td>\n",
       "      <td>40.767272</td>\n",
       "      <td>-73.993929</td>\n",
       "      <td>447</td>\n",
       "      <td>8 Ave &amp; W 52 St</td>\n",
       "      <td>40.763707</td>\n",
       "      <td>-73.985162</td>\n",
       "      <td>31781</td>\n",
       "      <td>Subscriber</td>\n",
       "      <td>1974</td>\n",
       "      <td>1</td>\n",
       "    </tr>\n",
       "    <tr>\n",
       "      <th>4</th>\n",
       "      <td>306</td>\n",
       "      <td>2018-01-01 18:14:51.5680</td>\n",
       "      <td>2018-01-01 18:19:57.6420</td>\n",
       "      <td>72</td>\n",
       "      <td>W 52 St &amp; 11 Ave</td>\n",
       "      <td>40.767272</td>\n",
       "      <td>-73.993929</td>\n",
       "      <td>3356</td>\n",
       "      <td>Amsterdam Ave &amp; W 66 St</td>\n",
       "      <td>40.774667</td>\n",
       "      <td>-73.984706</td>\n",
       "      <td>30319</td>\n",
       "      <td>Subscriber</td>\n",
       "      <td>1992</td>\n",
       "      <td>1</td>\n",
       "    </tr>\n",
       "    <tr>\n",
       "      <th>...</th>\n",
       "      <td>...</td>\n",
       "      <td>...</td>\n",
       "      <td>...</td>\n",
       "      <td>...</td>\n",
       "      <td>...</td>\n",
       "      <td>...</td>\n",
       "      <td>...</td>\n",
       "      <td>...</td>\n",
       "      <td>...</td>\n",
       "      <td>...</td>\n",
       "      <td>...</td>\n",
       "      <td>...</td>\n",
       "      <td>...</td>\n",
       "      <td>...</td>\n",
       "      <td>...</td>\n",
       "    </tr>\n",
       "    <tr>\n",
       "      <th>718989</th>\n",
       "      <td>843</td>\n",
       "      <td>2018-01-31 17:28:27.5390</td>\n",
       "      <td>2018-01-31 17:42:30.5890</td>\n",
       "      <td>3664</td>\n",
       "      <td>North Moore St &amp; Greenwich St</td>\n",
       "      <td>40.720195</td>\n",
       "      <td>-74.010301</td>\n",
       "      <td>410</td>\n",
       "      <td>Suffolk St &amp; Stanton St</td>\n",
       "      <td>40.720664</td>\n",
       "      <td>-73.985180</td>\n",
       "      <td>15153</td>\n",
       "      <td>Subscriber</td>\n",
       "      <td>1981</td>\n",
       "      <td>1</td>\n",
       "    </tr>\n",
       "    <tr>\n",
       "      <th>718990</th>\n",
       "      <td>244</td>\n",
       "      <td>2018-01-31 17:34:20.4510</td>\n",
       "      <td>2018-01-31 17:38:24.7200</td>\n",
       "      <td>3664</td>\n",
       "      <td>North Moore St &amp; Greenwich St</td>\n",
       "      <td>40.720195</td>\n",
       "      <td>-74.010301</td>\n",
       "      <td>327</td>\n",
       "      <td>Vesey Pl &amp; River Terrace</td>\n",
       "      <td>40.715338</td>\n",
       "      <td>-74.016584</td>\n",
       "      <td>26896</td>\n",
       "      <td>Subscriber</td>\n",
       "      <td>1960</td>\n",
       "      <td>1</td>\n",
       "    </tr>\n",
       "    <tr>\n",
       "      <th>718991</th>\n",
       "      <td>302</td>\n",
       "      <td>2018-01-31 18:20:55.5430</td>\n",
       "      <td>2018-01-31 18:25:58.3350</td>\n",
       "      <td>3664</td>\n",
       "      <td>North Moore St &amp; Greenwich St</td>\n",
       "      <td>40.720195</td>\n",
       "      <td>-74.010301</td>\n",
       "      <td>327</td>\n",
       "      <td>Vesey Pl &amp; River Terrace</td>\n",
       "      <td>40.715338</td>\n",
       "      <td>-74.016584</td>\n",
       "      <td>33111</td>\n",
       "      <td>Subscriber</td>\n",
       "      <td>1965</td>\n",
       "      <td>1</td>\n",
       "    </tr>\n",
       "    <tr>\n",
       "      <th>718992</th>\n",
       "      <td>222</td>\n",
       "      <td>2018-01-31 18:47:42.5720</td>\n",
       "      <td>2018-01-31 18:51:24.6830</td>\n",
       "      <td>3664</td>\n",
       "      <td>North Moore St &amp; Greenwich St</td>\n",
       "      <td>40.720195</td>\n",
       "      <td>-74.010301</td>\n",
       "      <td>257</td>\n",
       "      <td>Lispenard St &amp; Broadway</td>\n",
       "      <td>40.719392</td>\n",
       "      <td>-74.002472</td>\n",
       "      <td>16675</td>\n",
       "      <td>Subscriber</td>\n",
       "      <td>1969</td>\n",
       "      <td>0</td>\n",
       "    </tr>\n",
       "    <tr>\n",
       "      <th>718993</th>\n",
       "      <td>713</td>\n",
       "      <td>2018-01-31 19:35:55.4840</td>\n",
       "      <td>2018-01-31 19:47:48.6400</td>\n",
       "      <td>3664</td>\n",
       "      <td>North Moore St &amp; Greenwich St</td>\n",
       "      <td>40.720195</td>\n",
       "      <td>-74.010301</td>\n",
       "      <td>280</td>\n",
       "      <td>E 10 St &amp; 5 Ave</td>\n",
       "      <td>40.733320</td>\n",
       "      <td>-73.995101</td>\n",
       "      <td>17928</td>\n",
       "      <td>Subscriber</td>\n",
       "      <td>1991</td>\n",
       "      <td>1</td>\n",
       "    </tr>\n",
       "  </tbody>\n",
       "</table>\n",
       "<p>718994 rows × 15 columns</p>\n",
       "</div>"
      ],
      "text/plain": [
       "        tripduration                 starttime                  stoptime  \\\n",
       "0                970  2018-01-01 13:50:57.4340  2018-01-01 14:07:08.1860   \n",
       "1                723  2018-01-01 15:33:30.1820  2018-01-01 15:45:33.3410   \n",
       "2                496  2018-01-01 15:39:18.3370  2018-01-01 15:47:35.1720   \n",
       "3                306  2018-01-01 15:40:13.3720  2018-01-01 15:45:20.1910   \n",
       "4                306  2018-01-01 18:14:51.5680  2018-01-01 18:19:57.6420   \n",
       "...              ...                       ...                       ...   \n",
       "718989           843  2018-01-31 17:28:27.5390  2018-01-31 17:42:30.5890   \n",
       "718990           244  2018-01-31 17:34:20.4510  2018-01-31 17:38:24.7200   \n",
       "718991           302  2018-01-31 18:20:55.5430  2018-01-31 18:25:58.3350   \n",
       "718992           222  2018-01-31 18:47:42.5720  2018-01-31 18:51:24.6830   \n",
       "718993           713  2018-01-31 19:35:55.4840  2018-01-31 19:47:48.6400   \n",
       "\n",
       "        start station id             start station name  \\\n",
       "0                     72               W 52 St & 11 Ave   \n",
       "1                     72               W 52 St & 11 Ave   \n",
       "2                     72               W 52 St & 11 Ave   \n",
       "3                     72               W 52 St & 11 Ave   \n",
       "4                     72               W 52 St & 11 Ave   \n",
       "...                  ...                            ...   \n",
       "718989              3664  North Moore St & Greenwich St   \n",
       "718990              3664  North Moore St & Greenwich St   \n",
       "718991              3664  North Moore St & Greenwich St   \n",
       "718992              3664  North Moore St & Greenwich St   \n",
       "718993              3664  North Moore St & Greenwich St   \n",
       "\n",
       "        start station latitude  start station longitude  end station id  \\\n",
       "0                    40.767272               -73.993929             505   \n",
       "1                    40.767272               -73.993929            3255   \n",
       "2                    40.767272               -73.993929             525   \n",
       "3                    40.767272               -73.993929             447   \n",
       "4                    40.767272               -73.993929            3356   \n",
       "...                        ...                      ...             ...   \n",
       "718989               40.720195               -74.010301             410   \n",
       "718990               40.720195               -74.010301             327   \n",
       "718991               40.720195               -74.010301             327   \n",
       "718992               40.720195               -74.010301             257   \n",
       "718993               40.720195               -74.010301             280   \n",
       "\n",
       "                end station name  end station latitude  end station longitude  \\\n",
       "0                6 Ave & W 33 St             40.749013             -73.988484   \n",
       "1                8 Ave & W 31 St             40.750585             -73.994685   \n",
       "2               W 34 St & 11 Ave             40.755942             -74.002116   \n",
       "3                8 Ave & W 52 St             40.763707             -73.985162   \n",
       "4        Amsterdam Ave & W 66 St             40.774667             -73.984706   \n",
       "...                          ...                   ...                    ...   \n",
       "718989   Suffolk St & Stanton St             40.720664             -73.985180   \n",
       "718990  Vesey Pl & River Terrace             40.715338             -74.016584   \n",
       "718991  Vesey Pl & River Terrace             40.715338             -74.016584   \n",
       "718992   Lispenard St & Broadway             40.719392             -74.002472   \n",
       "718993           E 10 St & 5 Ave             40.733320             -73.995101   \n",
       "\n",
       "        bikeid    usertype  birth year  gender  \n",
       "0        31956  Subscriber        1992       1  \n",
       "1        32536  Subscriber        1969       1  \n",
       "2        16069  Subscriber        1956       1  \n",
       "3        31781  Subscriber        1974       1  \n",
       "4        30319  Subscriber        1992       1  \n",
       "...        ...         ...         ...     ...  \n",
       "718989   15153  Subscriber        1981       1  \n",
       "718990   26896  Subscriber        1960       1  \n",
       "718991   33111  Subscriber        1965       1  \n",
       "718992   16675  Subscriber        1969       0  \n",
       "718993   17928  Subscriber        1991       1  \n",
       "\n",
       "[718994 rows x 15 columns]"
      ]
     },
     "execution_count": 38,
     "metadata": {},
     "output_type": "execute_result"
    }
   ],
   "source": [
    "import pandas as pd\n",
    "import numpy as np\n",
    "import networkx as nx\n",
    "%matplotlib inline\n",
    "import matplotlib.pyplot as plt\n",
    "file = \"201801-citibike-tripdata.csv\"\n",
    "df = pd.read_csv(file)\n",
    "df"
   ]
  },
  {
   "cell_type": "markdown",
   "metadata": {},
   "source": [
    "<h1>STEP 2: Basic cleaning</h1>\n",
    "<li>Remove data that have any nans in any row (none in this file but others do have nans)\n",
    "<li>And convert stationids to str "
   ]
  },
  {
   "cell_type": "code",
   "execution_count": 40,
   "metadata": {},
   "outputs": [],
   "source": [
    "df.dropna(axis=0,how='any',inplace=True)\n",
    "df['start station id'] = df['start station id'].astype(str)\n",
    "df['end station id'] = df['end station id'].astype(str)\n"
   ]
  },
  {
   "cell_type": "markdown",
   "metadata": {},
   "source": [
    "<h1>STEP 3: Write a function that returns a graph given a citibike data frame</h1> \n",
    "<li>Your function should return two things:\n",
    "<ol>\n",
    "<li>a graph\n",
    "<li>a dictionary with station ids as the key and station name as the value\n",
    "</ol>\n",
    "<li>The graph should contain \n",
    "<ol>\n",
    "<li>nodes (station ids)\n",
    "<li>edges (station id, station id)\n",
    "<li>edge data \n",
    "<ol>\n",
    "<li>count: number of trips on the edge\n",
    "<li>time: average duration - pickup to dropoff - on that edge\n",
    "</ol>\n",
    "</ol>\n",
    "<li><b>Note:</b> the edge (x1,y1) is the same as (y1,x1) even though the start station ids and end station ids are flipped in the dataframe"
   ]
  },
  {
   "cell_type": "code",
   "execution_count": 116,
   "metadata": {},
   "outputs": [],
   "source": [
    "def get_citibike_network(df):\n",
    "    import networkx as nx\n",
    "    %matplotlib inline\n",
    "    import matplotlib.pyplot as plt\n",
    "    G=nx.Graph()\n",
    "    nodes=list()\n",
    "    node_names = dict()\n",
    "    for i in df['start station id'].unique():\n",
    "        node_names[i]=df[df['start station id']==i]['start station name'].iloc[0]\n",
    "    for j in df['end station id'].unique():\n",
    "        if j in node_names.keys():\n",
    "            continue\n",
    "        else:\n",
    "            node_names[j]=df[df['end station id']==j]['end station name'].iloc[0]\n",
    "    G.add_nodes_from(node_names.keys())\n",
    "    df=df[df['start station id']!=df['end station id']]\n",
    "    df['start id']=df.apply(lambda x: min(int(x['start station id']),int(x['end station id'])),axis=1)\n",
    "    df['end id']=df.apply(lambda x: max(int(x['start station id']),int(x['end station id'])),axis=1)\n",
    "    df['start id'] = df['start id'].apply(str)\n",
    "    df['end id'] = df['end id'].apply(str)\n",
    "    grouped = df.groupby(['start id','end id'])\n",
    "    average=grouped['tripduration'].mean()\n",
    "    ct=grouped['tripduration'].count()\n",
    "    for i in average.index:\n",
    "        G.add_edge(i[0],i[1],time=average[i])\n",
    "    for j in ct.index:\n",
    "        G.add_edge(j[0],j[1],count=ct[j])\n",
    "    pos=nx.spring_layout(G)\n",
    "    plt.figure(figsize=(20,20)) \n",
    "    nx.draw_networkx_nodes(G,pos,node_color='r',node_size=500,alpha=0.8)\n",
    "    nx.draw_networkx_edges(G,pos,edgelist=G.edges(),width=5,alpha=0.5,edge_color='b')\n",
    "    node_x={}\n",
    "    for nn in G.nodes():\n",
    "        node_x[nn]=str(nn)\n",
    "    nx.draw_networkx_edge_labels(G,pos,font_size=12) \n",
    "    nx.draw_networkx_labels(G,pos,node_x,font_size=14)\n",
    "    plt.axis('off')\n",
    "    plt.show() \n",
    "    return G,node_names"
   ]
  },
  {
   "cell_type": "markdown",
   "metadata": {},
   "source": [
    "<h1>STEP 4: Create the following graphs using the function above</h1>\n",
    "<li>G: A graph of all the data in the dataframe\n",
    "<li>m_G: A graph containing only data from male riders\n",
    "<li>f_G: A graph containing only data from female riders\n",
    "<li>Note: for m_G and f_G you will need to extract data from the dataframe and male has gender=1; female has gender=2"
   ]
  },
  {
   "cell_type": "code",
   "execution_count": 117,
   "metadata": {},
   "outputs": [
    {
     "data": {
      "image/png": "[encoded data removed]",
      "text/plain": [
       "<Figure size 432x288 with 1 Axes>"
      ]
     },
     "metadata": {},
     "output_type": "display_data"
    }
   ],
   "source": [
    "G,nodes=get_citibike_graph(df)\n",
    "%matplotlib inline\n",
    "nx.draw(G)"
   ]
  },
  {
   "cell_type": "code",
   "execution_count": 118,
   "metadata": {},
   "outputs": [],
   "source": [
    "m_df = df[df.gender==1]\n",
    "f_df = df[df.gender==2]"
   ]
  },
  {
   "cell_type": "code",
   "execution_count": 119,
   "metadata": {},
   "outputs": [],
   "source": [
    "m_G = get_citibike_graph(m_df)[0]\n",
    "f_G = get_citibike_graph(f_df)[0]"
   ]
  },
  {
   "cell_type": "code",
   "execution_count": 120,
   "metadata": {},
   "outputs": [
    {
     "data": {
      "image/png": "[encoded data removed]",
      "text/plain": [
       "<Figure size 432x288 with 1 Axes>"
      ]
     },
     "metadata": {},
     "output_type": "display_data"
    }
   ],
   "source": [
    "%matplotlib inline\n",
    "nx.draw(m_G)\n"
   ]
  },
  {
   "cell_type": "code",
   "execution_count": 121,
   "metadata": {},
   "outputs": [
    {
     "data": {
      "image/png": "[encoded data removed]",
      "text/plain": [
       "<Figure size 432x288 with 1 Axes>"
      ]
     },
     "metadata": {},
     "output_type": "display_data"
    }
   ],
   "source": [
    "%matplotlib inline\n",
    "nx.draw(f_G)\n"
   ]
  },
  {
   "cell_type": "markdown",
   "metadata": {},
   "source": [
    "<h1>STEP 5: Answer the following questions for each of the graphs</h1>\n",
    "<ol>\n",
    "Please answer the following questions for total_df, male_df & female_df:\n",
    "<li>Which stations (name) are the best and worst connected (max degree)?\n",
    "<li>Travel between which pair of stations is the longest in terms of average duration between bike pickups and dropoffs. Report both the two stations as well as the time in minutes\n",
    "<li>Which edges are associated with the most and least number of trips?"
   ]
  },
  {
   "cell_type": "markdown",
   "metadata": {},
   "source": [
    "Which stations (name) have the greatest and least number of connections (max degree)?"
   ]
  },
  {
   "cell_type": "code",
   "execution_count": 107,
   "metadata": {},
   "outputs": [
    {
     "name": "stdout",
     "output_type": "stream",
     "text": [
      "Best connected:  Pershing Square North\n",
      "Best connected male station:  Pershing Square North\n",
      "Best connected female station:  Pershing Square North\n"
     ]
    }
   ],
   "source": [
    "degree_g = nx.degree(G)\n",
    "list_degree_g =list(degree_g)\n",
    "max_degree_g=max(list_degree_g,key=lambda x: x[1]) \n",
    "max_node_g = nodes.get(max_degree_g[0])\n",
    "\n",
    "m_degree = nx.degree(m_G)\n",
    "list_m_degree =list(m_deg)\n",
    "max_degree_m=max(list_m_degree,key=lambda x: x[1]) \n",
    "max_node_m = nodes.get(max_degree_m[0])\n",
    "\n",
    "f_degree = nx.degree(f_G)\n",
    "list_f_degree=list(f_degree)\n",
    "max_degree_f=max(list_f_degree,key=lambda x: x[1]) \n",
    "max_node_f = nodes.get(max_degree_f[0])     \n",
    "\n",
    "print('Best connected: ', max_node_g)\n",
    "print('Best connected male station: ', max_node_m)\n",
    "print('Best connected female station: ', max_node_f)"
   ]
  },
  {
   "cell_type": "code",
   "execution_count": 108,
   "metadata": {},
   "outputs": [
    {
     "name": "stdout",
     "output_type": "stream",
     "text": [
      "Worst connected:  NYCBS Depot - 3AV\n",
      "Worst connected male station:  NYCBS Depot BAL - DYR\n",
      "Worst connected female station:  NYCBS Depot - 3AV\n"
     ]
    }
   ],
   "source": [
    "degree_g = nx.degree(G)\n",
    "list_degree_g =list(degree_g)\n",
    "min_degree_g=min(list_degree_g,key=lambda x: x[1]) \n",
    "min_node_g = nodes.get(min_degree_g[0])\n",
    "\n",
    "m_degree = nx.degree(m_G)\n",
    "list_m_degree =list(m_deg)\n",
    "min_degree_m=min(list_m_degree,key=lambda x: x[1]) \n",
    "min_node_m = nodes.get(min_degree_m[0])\n",
    "\n",
    "f_degree = nx.degree(f_G)\n",
    "list_f_degree=list(f_degree)\n",
    "min_degree_f=min(list_f_degree,key=lambda x: x[1]) \n",
    "min_node_f = nodes.get(min_degree_f[0])     \n",
    "\n",
    "print('Worst connected: ', min_node_g)\n",
    "print('Worst connected male station: ', min_node_m)\n",
    "print('Worst connected female station: ', min_node_f)"
   ]
  },
  {
   "cell_type": "code",
   "execution_count": null,
   "metadata": {},
   "outputs": [],
   "source": []
  },
  {
   "cell_type": "markdown",
   "metadata": {},
   "source": [
    "Travel between which pair of stations is the longest in terms of average duration between bike pickups and dropoffs"
   ]
  },
  {
   "cell_type": "code",
   "execution_count": 109,
   "metadata": {
    "scrolled": true
   },
   "outputs": [
    {
     "name": "stdout",
     "output_type": "stream",
     "text": [
      "Average longest duration between stations:  Nassau St & Navy St  to  Hope St & Union Ave  is:  19510049\n",
      "Average longest duration between male stations:  Nassau St & Navy St  to  Hope St & Union Ave  is:  19510049\n",
      "Average longest duration between female stations:  Adelphi St & Myrtle Ave  to  NYCBS Depot - 3AV  is:  4421929\n"
     ]
    }
   ],
   "source": [
    "g_edge=list(G.edges(data=True))\n",
    "g_max_time=max(g_edge, key=lambda x: x[2]['time'])\n",
    "g_n1,g_n2 = nodes.get(g_max_time[0]),nodes.get(g_max_time[1])\n",
    "m_edge=list(m_G.edges(data=True))\n",
    "m_max_time = max(m_edge, key=lambda x: x[2]['time'])\n",
    "m_n1,m_n2 = nodes.get(m_max_time[0]),nodes.get(m_max_time[1])\n",
    "f_edge=list(f_G.edges(data=True))\n",
    "f_max_time=max(f_edge, key=lambda x: x[2]['time'])\n",
    "f_n1,f_n2 = nodes.get(f_max_time[0]),nodes.get(f_max_time[1])\n",
    "print(\"Average longest duration between stations: \",g_n1, \" to \",g_n2,\" is: \",int(g_max_time[2]['time']))\n",
    "print(\"Average longest duration between male stations: \",m_n1, \" to \",m_n2,\" is: \",int(m_max_time[2]['time']))\n",
    "print(\"Average longest duration between female stations: \",f_n1, \" to \",f_n2,\" is: \",int(f_max_time[2]['time']))"
   ]
  },
  {
   "cell_type": "code",
   "execution_count": null,
   "metadata": {},
   "outputs": [],
   "source": []
  },
  {
   "cell_type": "markdown",
   "metadata": {},
   "source": [
    "Which edges are associated with the most and least number of trips?"
   ]
  },
  {
   "cell_type": "code",
   "execution_count": 110,
   "metadata": {},
   "outputs": [
    {
     "name": "stdout",
     "output_type": "stream",
     "text": [
      "Most trip routes for males are from:  Cooper Square & Astor Pl  to  E 7 St & Avenue A  =  533\n",
      "Most trip routes for females are from :  E 7 St & Avenue A  to  Cooper Square & Astor Pl  =  161\n",
      "Most trip routes are from:  Cooper Square & Astor Pl  to  E 7 St & Avenue A  =  700\n"
     ]
    }
   ],
   "source": [
    "g_edges=list(G.edges(data=True))\n",
    "g_max_count=max(g_edges, key=lambda x: x[2]['trips'])\n",
    "g_c1, g_c2 = nodes.get(g_max_count[0]),nodes.get(g_max_count[1])\n",
    "m_edges= list(m_G.edges(data=True))\n",
    "m_max_count=max(m_edges, key=lambda x: x[2]['trips'])\n",
    "m_c1, m_c2 = nodes.get(m_max_count[0]),nodes.get(m_max_count[1])\n",
    "f_edges= list(f_G.edges(data=True))\n",
    "f_max_count=max(f_edges, key=lambda x: x[2]['trips'])\n",
    "f_c1, f_c2=nodes.get(f_max_count[0]),nodes.get(f_max_count[1])\n",
    "\n",
    "print(\"Most trip routes for males are from: \",m_c1, \" to \",m_c2, \" = \", m_max_count[2]['trips'])\n",
    "print(\"Most trip routes for females are from : \",f_c1, \" to \",f_c2, \" = \", f_max_count[2]['trips'])\n",
    "print(\"Most trip routes are from: \",g_c1, \" to \",g_c2, \" = \", g_max_count[2]['trips'])"
   ]
  },
  {
   "cell_type": "code",
   "execution_count": 111,
   "metadata": {},
   "outputs": [
    {
     "name": "stdout",
     "output_type": "stream",
     "text": [
      "Least trip routes for males are from:  W 52 St & 11 Ave  to  Frederick Douglass Blvd & W 117 St  =  1\n",
      "Least trip routes for females are from :  W 52 St & 11 Ave  to  1 Ave & E 68 St  =  1\n",
      "Least trip routes are from:  W 52 St & 11 Ave  to  Frederick Douglass Blvd & W 117 St  =  1\n"
     ]
    }
   ],
   "source": [
    "g_edges=list(G.edges(data=True))\n",
    "g_min_count=min(g_edges, key=lambda x: x[2]['trips'])\n",
    "g_c1, g_c2 = nodes.get(g_min_count[0]),nodes.get(g_min_count[1])\n",
    "m_edges= list(m_G.edges(data=True))\n",
    "m_min_count=min(m_edges, key=lambda x: x[2]['trips'])\n",
    "m_c1, m_c2 = nodes.get(m_min_count[0]),nodes.get(m_min_count[1])\n",
    "f_edges= list(f_G.edges(data=True))\n",
    "f_min_count=min(f_edges, key=lambda x: x[2]['trips'])\n",
    "f_c1, f_c2=nodes.get(f_min_count[0]),nodes.get(f_min_count[1])\n",
    "\n",
    "print(\"Least trip routes for males are from: \",m_c1, \" to \",m_c2, \" = \", m_min_count[2]['trips'])\n",
    "print(\"Least trip routes for females are from : \",f_c1, \" to \",f_c2, \" = \", f_min_count[2]['trips'])\n",
    "print(\"Least trip routes are from: \",g_c1, \" to \",g_c2, \" = \", g_min_count[2]['trips'])"
   ]
  },
  {
   "cell_type": "code",
   "execution_count": null,
   "metadata": {},
   "outputs": [],
   "source": []
  },
  {
   "cell_type": "markdown",
   "metadata": {},
   "source": [
    "<h2>Centrality</h2>\n",
    "One of the concerns that the citibike system has to deal with is ensuring that no station has empty slots (a bike should always be available) and that no station should have no empty slots (you should be able to return a bike). To do this, it needs to monitor the movement of bikes through the system, ideally using a directed graph. Though our graph is not directed, we can look at some network characteristics that will help us answer these questions. Note that the \"trips\" feature in edge data captures flows.\n",
    "<li>Which node is a possible bottleneck node in terms of bike flows?\n",
    "<li>Which node is the \"nearest\" to all other nodes (irrespective of flows)?\n",
    "<li>Which node is the \"nearest\" to all other nodes (in terms of distance = time)?\n"
   ]
  },
  {
   "cell_type": "code",
   "execution_count": 115,
   "metadata": {
    "scrolled": false
   },
   "outputs": [
    {
     "name": "stdout",
     "output_type": "stream",
     "text": [
      "Possible bottleneck node in terms of bike flows:  1 Ave & E 62 St\n",
      "Nearest to all other nodes (irrespective of flows):  Pershing Square North\n",
      "Nearest to all other nodes (in terms of distance = time):  E 4 St & 2 Ave \n",
      "\n",
      "Possible bottleneck node in terms of bike flows for males:  Queens Plaza North & Crescent St\n",
      "Nearest to all other nodes (irrespective of flows) for males:  Pershing Square North\n",
      "Nearest to all other nodes (in terms of distance = time) for males:  E 2 St & 2 Ave \n",
      "\n",
      "Possible bottleneck node in terms of bike flows for females:  Queens Plaza North & Crescent St\n",
      "Nearest to all other nodes (irrespective of flows) for females:  Pershing Square North\n",
      "Nearest to all other nodes (in terms of distance = time) for females:  Stanton St & Chrystie St\n"
     ]
    }
   ],
   "source": [
    "from networkx.algorithms import closeness_centrality\n",
    "from networkx.algorithms import betweenness_centrality\n",
    "\n",
    "bcg=betweenness_centrality(G)\n",
    "ccg=closeness_centrality(G)\n",
    "cctg=closeness_centrality(G,distance='time')\n",
    "bcm=betweenness_centrality(m_G)\n",
    "ccm=closeness_centrality(m_G)\n",
    "cctm=closeness_centrality(m_G,distance='time')\n",
    "bcf=betweenness_centrality(f_G)\n",
    "ccf=closeness_centrality(f_G)\n",
    "cctf = closeness_centrality(f_G,distance='time')\n",
    "max_bcg=max(bcg.items(), key=lambda x:x[1])\n",
    "max_ccg = max(ccg.items(), key=lambda x:x[1])\n",
    "max_cctg = max(cctg.items(), key=lambda x:x[1])\n",
    "max_bcm = max(bcm.items(), key=lambda x:x[1])\n",
    "max_ccm = max(ccm.items(), key=lambda x:x[1])\n",
    "max_cctm = max(cctm.items(), key=lambda x:x[1])\n",
    "max_bcf= max(bcf.items(), key=lambda x:x[1])\n",
    "max_ccf = max(ccf.items(), key=lambda x:x[1])\n",
    "max_cctf = max(cctf.items(), key=lambda x:x[1])\n",
    "print('Possible bottleneck node in terms of bike flows: ', nodes.get(max_bcg[0]))\n",
    "print('Nearest to all other nodes (irrespective of flows): ', nodes.get(max_ccg[0]))\n",
    "print('Nearest to all other nodes (in terms of distance = time): ', nodes.get(max_cctg[0]),\"\\n\")\n",
    "print('Possible bottleneck node in terms of bike flows for males: ', nodes.get(max_bcm[0]))\n",
    "print('Nearest to all other nodes (irrespective of flows) for males: ', nodes.get(max_ccm[0]))\n",
    "print('Nearest to all other nodes (in terms of distance = time) for males: ', nodes.get(max_cctm[0]),\"\\n\")\n",
    "print('Possible bottleneck node in terms of bike flows for females: ', nodes.get(max_bcf[0]))\n",
    "print('Nearest to all other nodes (irrespective of flows) for females: ', nodes.get(max_ccf[0]))\n",
    "print('Nearest to all other nodes (in terms of distance = time) for females: ', nodes.get(max_cctf[0]))"
   ]
  },
  {
   "cell_type": "code",
   "execution_count": null,
   "metadata": {},
   "outputs": [],
   "source": []
  }
 ],
 "metadata": {
  "kernelspec": {
   "display_name": "Python 3 (ipykernel)",
   "language": "python",
   "name": "python3"
  },
  "language_info": {
   "codemirror_mode": {
    "name": "ipython",
    "version": 3
   },
   "file_extension": ".py",
   "mimetype": "text/x-python",
   "name": "python",
   "nbconvert_exporter": "python",
   "pygments_lexer": "ipython3",
   "version": "3.9.12"
  }
 },
 "nbformat": 4,
 "nbformat_minor": 2
}
